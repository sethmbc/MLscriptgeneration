{
 "cells": [
  {
   "cell_type": "code",
   "execution_count": 7,
   "metadata": {},
   "outputs": [],
   "source": [
    "from tensorflow.keras.preprocessing.sequence import pad_sequences\n",
    "from tensorflow.keras.layers import Embedding, LSTM, Dense, Dropout, Bidirectional\n",
    "from tensorflow.keras.preprocessing.text import Tokenizer\n",
    "from tensorflow.keras.models import Sequential\n",
    "from tensorflow.keras.optimizers import Adam\n",
    "from tensorflow.keras import regularizers\n",
    "import tensorflow.keras.utils as ku \n",
    "import numpy as np"
   ]
  },
  {
   "cell_type": "code",
   "execution_count": 8,
   "metadata": {},
   "outputs": [],
   "source": [
    "tokenizer = Tokenizer()\n",
    "data = open('House.txt',encoding=\"utf8\").read()\n",
    "corpus = data.lower().split(\"\\n\")\n",
    "tokenizer.fit_on_texts(corpus)\n",
    "total_words = len(tokenizer.word_index) + 1"
   ]
  },
  {
   "cell_type": "code",
   "execution_count": 9,
   "metadata": {},
   "outputs": [],
   "source": [
    "input_sequences = []\n",
    "for line in corpus:\n",
    " token_list = tokenizer.texts_to_sequences([line])[0]\n",
    " for i in range(1, len(token_list)):\n",
    "  n_gram_sequence = token_list[:i+1]\n",
    "  input_sequences.append(n_gram_sequence)\n",
    "# pad sequences \n",
    "max_sequence_len = max([len(x) for x in input_sequences])\n",
    "input_sequences = np.array(pad_sequences(input_sequences, maxlen=max_sequence_len, padding='pre'))\n",
    "# create predictors and label\n",
    "predictors, label = input_sequences[:,:-1],input_sequences[:,-1]\n",
    "label = ku.to_categorical(label, num_classes=total_words)"
   ]
  },
  {
   "cell_type": "code",
   "execution_count": 10,
   "metadata": {},
   "outputs": [
    {
     "name": "stdout",
     "output_type": "stream",
     "text": [
      "Model: \"sequential_1\"\n",
      "_________________________________________________________________\n",
      "Layer (type)                 Output Shape              Param #   \n",
      "=================================================================\n",
      "embedding (Embedding)        (None, 181, 20)           28940     \n",
      "_________________________________________________________________\n",
      "bidirectional (Bidirectional (None, 181, 300)          205200    \n",
      "_________________________________________________________________\n",
      "dropout (Dropout)            (None, 181, 300)          0         \n",
      "_________________________________________________________________\n",
      "lstm_1 (LSTM)                (None, 100)               160400    \n",
      "_________________________________________________________________\n",
      "dense (Dense)                (None, 723)               73023     \n",
      "_________________________________________________________________\n",
      "dense_1 (Dense)              (None, 1447)              1047628   \n",
      "=================================================================\n",
      "Total params: 1,515,191\n",
      "Trainable params: 1,515,191\n",
      "Non-trainable params: 0\n",
      "_________________________________________________________________\n",
      "None\n"
     ]
    }
   ],
   "source": [
    "model = Sequential()\n",
    "model.add(Embedding(total_words, 20, input_length=max_sequence_len-1))\n",
    "model.add(Bidirectional(LSTM(150, return_sequences = True)))\n",
    "model.add(Dropout(0.2))\n",
    "model.add(LSTM(100))\n",
    "model.add(Dense(total_words/2, activation='relu', kernel_regularizer=regularizers.l2(0.01)))\n",
    "model.add(Dense(total_words, activation='softmax'))\n",
    "model.compile(loss='categorical_crossentropy', optimizer='adam', metrics=['accuracy'])\n",
    "print(model.summary())"
   ]
  },
  {
   "cell_type": "code",
   "execution_count": null,
   "metadata": {},
   "outputs": [
    {
     "name": "stdout",
     "output_type": "stream",
     "text": [
      "Train on 6444 samples\n",
      "Epoch 1/50\n",
      "6444/6444 [==============================] - 89s 14ms/sample - loss: 6.8430 - accuracy: 0.0334\n",
      "Epoch 2/50\n",
      "6444/6444 [==============================] - 94s 15ms/sample - loss: 6.1294 - accuracy: 0.0362\n",
      "Epoch 3/50\n",
      "6444/6444 [==============================] - 91s 14ms/sample - loss: 6.0280 - accuracy: 0.0386\n",
      "Epoch 4/50\n",
      "6444/6444 [==============================] - 90s 14ms/sample - loss: 5.9471 - accuracy: 0.0461\n",
      "Epoch 5/50\n",
      "6444/6444 [==============================] - 89s 14ms/sample - loss: 5.8453 - accuracy: 0.0525\n",
      "Epoch 6/50\n",
      "6444/6444 [==============================] - 93s 14ms/sample - loss: 5.7573 - accuracy: 0.0551\n",
      "Epoch 7/50\n",
      "6444/6444 [==============================] - 91s 14ms/sample - loss: 5.6887 - accuracy: 0.0601\n",
      "Epoch 8/50\n",
      "2400/6444 [==========>...................] - ETA: 53s - loss: 5.6667 - accuracy: 0.0567"
     ]
    }
   ],
   "source": [
    "history = model.fit(predictors, label, epochs=50, verbose=1)"
   ]
  },
  {
   "cell_type": "code",
   "execution_count": 58,
   "metadata": {},
   "outputs": [
    {
     "name": "stdout",
     "output_type": "stream",
     "text": [
      "Fight there were texans with the immobile staring still set the\n"
     ]
    }
   ],
   "source": [
    "seed_text = \"Fight\"\n",
    "next_words = 10\n",
    "  \n",
    "for _ in range(next_words):\n",
    " token_list = tokenizer.texts_to_sequences([seed_text])[0]\n",
    " token_list = pad_sequences([token_list], maxlen=max_sequence_len-1, padding='pre')\n",
    " predicted = model.predict_classes(token_list, verbose=0)\n",
    " output_word = \"\"\n",
    " for word, index in tokenizer.word_index.items():\n",
    "  if index == predicted:\n",
    "   output_word = word\n",
    "   break\n",
    " seed_text += \" \" + output_word\n",
    "print(seed_text)\n"
   ]
  },
  {
   "cell_type": "code",
   "execution_count": null,
   "metadata": {},
   "outputs": [],
   "source": []
  }
 ],
 "metadata": {
  "kernelspec": {
   "display_name": "Python 3",
   "language": "python",
   "name": "python3"
  },
  "language_info": {
   "codemirror_mode": {
    "name": "ipython",
    "version": 3
   },
   "file_extension": ".py",
   "mimetype": "text/x-python",
   "name": "python",
   "nbconvert_exporter": "python",
   "pygments_lexer": "ipython3",
   "version": "3.7.3"
  }
 },
 "nbformat": 4,
 "nbformat_minor": 2
}
